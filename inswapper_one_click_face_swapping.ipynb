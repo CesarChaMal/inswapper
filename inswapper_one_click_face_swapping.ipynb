{
  "cells": [
    {
      "cell_type": "markdown",
      "metadata": {
        "id": "view-in-github",
        "colab_type": "text"
      },
      "source": [
        "<a href=\"https://colab.research.google.com/github/CesarChaMal/inswapper/blob/main/inswapper_one_click_face_swapping.ipynb\" target=\"_parent\"><img src=\"https://colab.research.google.com/assets/colab-badge.svg\" alt=\"Open In Colab\"/></a>"
      ]
    },
    {
      "cell_type": "markdown",
      "metadata": {
        "id": "D3L8Lkyj-5gl"
      },
      "source": [
        "#Clone inswapper repo and install dependencies"
      ]
    },
    {
      "cell_type": "code",
      "execution_count": null,
      "metadata": {
        "id": "0aHr4Fo-7IRy",
        "colab": {
          "base_uri": "https://localhost:8080/"
        },
        "outputId": "923e69cd-459e-46f8-8ff5-9f807723edb0"
      },
      "outputs": [
        {
          "output_type": "stream",
          "name": "stdout",
          "text": [
            "Git LFS initialized.\n",
            "Cloning into 'CodeFormer'...\n",
            "remote: Enumerating objects: 300, done.\u001b[K\n",
            "remote: Counting objects: 100% (78/78), done.\u001b[K\n",
            "remote: Compressing objects: 100% (78/78), done.\u001b[K\n",
            "remote: Total 300 (delta 45), reused 0 (delta 0), pack-reused 222\u001b[K\n",
            "Receiving objects: 100% (300/300), 6.98 MiB | 5.78 MiB/s, done.\n",
            "Resolving deltas: 100% (110/110), done.\n",
            "Cloning into 'RealESRGANDistortion'...\n",
            "remote: Enumerating objects: 25, done.\u001b[K\n",
            "remote: Total 25 (delta 0), reused 0 (delta 0), pack-reused 25\u001b[K\n",
            "Unpacking objects: 100% (25/25), 1.44 MiB | 1.62 MiB/s, done.\n",
            "Filtering content: 100% (2/2), 191.78 MiB | 41.88 MiB/s, done.\n",
            "Cloning into 'inswapper'...\n",
            "remote: Enumerating objects: 432, done.\u001b[K\n",
            "remote: Counting objects: 100% (42/42), done.\u001b[K\n",
            "remote: Compressing objects: 100% (16/16), done.\u001b[K\n",
            "remote: Total 432 (delta 32), reused 27 (delta 26), pack-reused 390\u001b[K\n",
            "Receiving objects: 100% (432/432), 18.04 MiB | 18.16 MiB/s, done.\n",
            "Resolving deltas: 100% (174/174), done.\n",
            "--2024-01-06 05:04:27--  https://repo.anaconda.com/miniconda/Miniconda3-latest-Linux-x86_64.sh\n",
            "Resolving repo.anaconda.com (repo.anaconda.com)... 104.16.130.3, 104.16.131.3, 2606:4700::6810:8303, ...\n",
            "Connecting to repo.anaconda.com (repo.anaconda.com)|104.16.130.3|:443... connected.\n",
            "HTTP request sent, awaiting response... 200 OK\n",
            "Length: 141613749 (135M) [text/x-sh]\n",
            "Saving to: ‘Miniconda3-latest-Linux-x86_64.sh’\n",
            "\n",
            "Miniconda3-latest-L 100%[===================>] 135.05M   258MB/s    in 0.5s    \n",
            "\n",
            "2024-01-06 05:04:28 (258 MB/s) - ‘Miniconda3-latest-Linux-x86_64.sh’ saved [141613749/141613749]\n",
            "\n",
            "Current Working Directory: /content\n",
            "Current Working Directory: /content\n",
            "PREFIX=/usr/local\n",
            "Unpacking payload ...\n",
            "                                                                                         \n",
            "Installing base environment...\n",
            "\n"
          ]
        }
      ],
      "source": [
        "!rm -rf *\n",
        "!git lfs install\n",
        "!git clone https://huggingface.co/spaces/sczhou/CodeFormer\n",
        "!git clone https://huggingface.co/spaces/ARTeLab/RealESRGANDistortion\n",
        "!git clone https://github.com/CesarChaMal/inswapper.git\n",
        "!wget https://repo.anaconda.com/miniconda/Miniconda3-latest-Linux-x86_64.sh\n",
        "!python -c \"import os; print('Current Working Directory:', os.getcwd())\"\n",
        "!/usr/local/envs/venv/bin/python -c \"import os; print('Current Working Directory:', os.getcwd())\"\n",
        "!chmod +x Miniconda3-latest-Linux-x86_64.sh\n",
        "!./Miniconda3-latest-Linux-x86_64.sh -b -f -p /usr/local\n",
        "!source /usr/local/etc/profile.d/conda.sh && conda init bash\n",
        "!source ~/.bashrc\n",
        "!conda create --name venv python=3.7 -y\n",
        "!#source /usr/local/etc/profile.d/conda.sh && conda activate venv && python inswapper/run_in_venv.py && cd inswapper\n",
        "!source /usr/local/etc/profile.d/conda.sh && conda activate venv\n",
        "!/usr/local/envs/venv/bin/python --version\n",
        "!#/usr/local/envs/venv/bin/python -m pip uninstall facelib -y\n",
        "!#/usr/local/envs/venv/bin/python -m pip uninstall git+https://github.com/xinntao/facexlib.git -y\n",
        "!/usr/local/envs/venv/bin/python -m pip install -r /content/inswapper/requirements.txt\n",
        "!#/usr/local/envs/venv/bin/python -m pip install facelib\n",
        "!#/usr/local/envs/venv/bin/python -m pip install git+https://github.com/xinntao/facexlib.git\n",
        "!/usr/local/envs/venv/bin/python -m pip list\n",
        "!/usr/local/envs/venv/bin/python -c \"import sys; sys.path.append('./CodeFormer/CodeFormer'); import facelib; print(facelib.__file__)\"\n",
        "!/usr/local/envs/venv/bin/python -c \"import basicsr; print(basicsr.__file__)\"\n",
        "!/usr/local/envs/venv/bin/python -c \"import basicsr.utils.realesrgan_utils; print(basicsr.utils.realesrgan_utils.__file__)\"\n",
        "!/usr/local/envs/venv/bin/python -c \"import sys; sys.path.append('/content/RealESRGANDistortion'); import basicsr.utils.realesrgan_utils; print(basicsr.utils.realesrgan_utils.__file__)\"\n",
        "!/usr/local/envs/venv/bin/python -c \"import sys; sys.path.append('/content/RealESRGANDistortion'); import realesrgan.utils; print(realesrgan.utils.__file__)\"\n",
        "!#/usr/local/envs/venv/bin/python -c \"import facelib; print(facelib.__file__)\"\n",
        "!#/usr/local/envs/venv/bin/python -c \"import facexlib; print(facexlib.__file__)\"\n",
        "!#/usr/local/envs/venv/bin/python -m pip show facelib\n",
        "!#/usr/local/envs/venv/bin/python -m pip show facexlib\n",
        "!#ls /usr/local/envs/venv/lib/python3.7/site-packages/facelib\n",
        "!#ls /usr/local/envs/venv/lib/python3.7/site-packages/facelib/_utils\n",
        "!#ls /usr/local/envs/venv/lib/python3.7/site-packages/facexlib\n",
        "!#ls /usr/local/envs/venv/lib/python3.7/site-packages/facexlib/utils\n",
        "!cd inswapper\n"
      ]
    },
    {
      "cell_type": "markdown",
      "source": [
        "#download model"
      ],
      "metadata": {
        "collapsed": false,
        "id": "_zg22-E3589h"
      }
    },
    {
      "cell_type": "code",
      "execution_count": null,
      "metadata": {
        "id": "UQH2exUYGTbK"
      },
      "outputs": [],
      "source": [
        "!wget https://huggingface.co/ezioruan/inswapper_128.onnx/resolve/main/inswapper_128.onnx -O inswapper_128.onnx\n",
        "!mkdir inswapper/checkpoints\n",
        "!mv inswapper_128.onnx ./inswapper/checkpoints"
      ]
    },
    {
      "cell_type": "markdown",
      "metadata": {
        "id": "nCKli1C-_EaO"
      },
      "source": [
        "#Face Swap"
      ]
    },
    {
      "cell_type": "code",
      "source": [
        "!source /usr/local/etc/profile.d/conda.sh && conda activate venv && /usr/local/envs/venv/bin/python inswapper/swapper.py --source_img /content/inswapper/data/source_image.png --target_img /content/inswapper/data/target_image.png --output_img /content/inswapper/data/output_image.jpg --face_restore --background_enhance --face_upsample --upscale=2 --codeformer_fidelity=0.5"
      ],
      "metadata": {
        "id": "085HYQtVzFK7"
      },
      "execution_count": null,
      "outputs": []
    },
    {
      "cell_type": "code",
      "source": [
        "!source /usr/local/etc/profile.d/conda.sh && conda activate venv && /usr/local/envs/venv/bin/python inswapper/swapper.py --source_img /content/inswapper/data/source_image.png --target_img /content/inswapper/data/target_image.png --face_restore --background_enhance --face_upsample --upscale=2 --codeformer_fidelity=0.5"
      ],
      "metadata": {
        "id": "tMzpfpx2zPR9"
      },
      "execution_count": null,
      "outputs": []
    },
    {
      "cell_type": "code",
      "execution_count": null,
      "metadata": {
        "id": "lDYdfL3L71i1"
      },
      "outputs": [],
      "source": [
        "!source /usr/local/etc/profile.d/conda.sh && conda activate venv && /usr/local/envs/venv/bin/python inswapper/swapper.py --source_img \"/content/inswapper/data/man3.jpg;/content/inswapper/data/man4.jpg\" --target_img /content/inswapper/data/mans1.jpeg --output_img /content/inswapper/data/output_image.jpg"
      ]
    },
    {
      "cell_type": "code",
      "source": [
        "!source /usr/local/etc/profile.d/conda.sh && conda activate venv && /usr/local/envs/venv/bin/python inswapper/swapper.py --source_img \"/content/inswapper/data/man3.jpg;/content/inswapper/data/man4.jpg\" --target_img /content/inswapper/data/mans1.jpeg --face_restore --background_enhance --face_upsample --upscale=2 --codeformer_fidelity=0.5"
      ],
      "metadata": {
        "id": "aQ_g2Vr1Uir5"
      },
      "execution_count": null,
      "outputs": []
    }
  ],
  "metadata": {
    "accelerator": "GPU",
    "colab": {
      "provenance": [],
      "include_colab_link": true
    },
    "kernelspec": {
      "display_name": "Python 3",
      "name": "python3"
    },
    "language_info": {
      "name": "python"
    }
  },
  "nbformat": 4,
  "nbformat_minor": 0
}